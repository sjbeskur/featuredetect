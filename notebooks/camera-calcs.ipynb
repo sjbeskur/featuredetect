{
 "cells": [
  {
   "cell_type": "code",
   "execution_count": 2,
   "metadata": {},
   "outputs": [
    {
     "data": {
      "text/plain": [
       "array([[504.38498235,   0.        , 321.92247118],\n",
       "       [  0.        , 504.38498235, 188.63481707],\n",
       "       [  0.        ,   0.        ,   1.        ]])"
      ]
     },
     "execution_count": 2,
     "metadata": {},
     "output_type": "execute_result"
    }
   ],
   "source": [
    "import numpy as np;\n",
    "\n",
    "import os\n",
    "path = os.path.abspath(os.getcwd())\n",
    "k_l = path + \"/notebooks/calib-results/cam_mats_left.npy\"\n",
    "k_r = path + \"/notebooks/calib-results/cam_mats_right.npy\"\n",
    "np.load(k_l)\n"
   ]
  },
  {
   "cell_type": "code",
   "execution_count": 3,
   "metadata": {},
   "outputs": [
    {
     "data": {
      "text/plain": [
       "array([[504.38498235,   0.        , 312.85543989],\n",
       "       [  0.        , 504.38498235, 185.66272695],\n",
       "       [  0.        ,   0.        ,   1.        ]])"
      ]
     },
     "execution_count": 3,
     "metadata": {},
     "output_type": "execute_result"
    }
   ],
   "source": [
    "np.load(k_r)"
   ]
  },
  {
   "cell_type": "markdown",
   "metadata": {},
   "source": [
    "P = K * [R | t] "
   ]
  },
  {
   "cell_type": "code",
   "execution_count": 8,
   "metadata": {},
   "outputs": [
    {
     "data": {
      "text/plain": [
       "array([[ 0.99945835, -0.00714085,  0.03212484],\n",
       "       [ 0.00760995,  0.99986585, -0.01450387],\n",
       "       [-0.03201696,  0.01474048,  0.99937862]])"
      ]
     },
     "execution_count": 8,
     "metadata": {},
     "output_type": "execute_result"
    }
   ],
   "source": [
    "rot_f = path + \"/notebooks/calib-results/rot_mat.npy\"\n",
    "r = np.load(rot_f)\n",
    "r"
   ]
  },
  {
   "cell_type": "code",
   "execution_count": 9,
   "metadata": {},
   "outputs": [
    {
     "data": {
      "text/plain": [
       "array([[ 8.36676026e+00],\n",
       "       [ 2.99845668e-03],\n",
       "       [-1.24471830e+00]])"
      ]
     },
     "execution_count": 9,
     "metadata": {},
     "output_type": "execute_result"
    }
   ],
   "source": [
    "trans_f = path + \"/notebooks/calib-results/trans_vec.npy\"\n",
    "t = np.load(trans_f)\n",
    "t"
   ]
  },
  {
   "cell_type": "code",
   "execution_count": 11,
   "metadata": {},
   "outputs": [
    {
     "data": {
      "text/plain": [
       "array([[ 9.99458355e-01, -7.14084857e-03,  3.21248352e-02,\n",
       "         8.36676026e+00],\n",
       "       [ 7.60994684e-03,  9.99865854e-01, -1.45038657e-02,\n",
       "         2.99845668e-03],\n",
       "       [-3.20169559e-02,  1.47404780e-02,  9.99378623e-01,\n",
       "        -1.24471830e+00]])"
      ]
     },
     "execution_count": 11,
     "metadata": {},
     "output_type": "execute_result"
    }
   ],
   "source": [
    "T = np.hstack((r, t))\n",
    "T"
   ]
  },
  {
   "cell_type": "code",
   "execution_count": 13,
   "metadata": {},
   "outputs": [
    {
     "data": {
      "text/plain": [
       "array([[504.38498235,   0.        , 377.38433337,   0.        ],\n",
       "       [  0.        , 504.38498235, 182.30455971,   0.        ],\n",
       "       [  0.        ,   0.        ,   1.        ,   0.        ]])"
      ]
     },
     "execution_count": 13,
     "metadata": {},
     "output_type": "execute_result"
    }
   ],
   "source": [
    "proj_f = path + \"/notebooks/calib-results/proj_mats_left.npy\"\n",
    "Pl = np.load(proj_f)\n",
    "Pl"
   ]
  },
  {
   "cell_type": "code",
   "execution_count": 14,
   "metadata": {},
   "outputs": [
    {
     "data": {
      "text/plain": [
       "array([[5.04384982e+02, 0.00000000e+00, 4.18621510e+02, 4.26651293e+03],\n",
       "       [0.00000000e+00, 5.04384982e+02, 1.82304560e+02, 0.00000000e+00],\n",
       "       [0.00000000e+00, 0.00000000e+00, 1.00000000e+00, 0.00000000e+00]])"
      ]
     },
     "execution_count": 14,
     "metadata": {},
     "output_type": "execute_result"
    }
   ],
   "source": [
    "proj_f = path + \"/notebooks/calib-results/proj_mats_right.npy\"\n",
    "Pl = np.load(proj_f)\n",
    "Pl"
   ]
  }
 ],
 "metadata": {
  "kernelspec": {
   "display_name": "Python 3",
   "language": "python",
   "name": "python3"
  },
  "language_info": {
   "codemirror_mode": {
    "name": "ipython",
    "version": 3
   },
   "file_extension": ".py",
   "mimetype": "text/x-python",
   "name": "python",
   "nbconvert_exporter": "python",
   "pygments_lexer": "ipython3",
   "version": "3.10.12"
  },
  "orig_nbformat": 4
 },
 "nbformat": 4,
 "nbformat_minor": 2
}
